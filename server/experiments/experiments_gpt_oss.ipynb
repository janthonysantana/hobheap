{
 "cells": [
  {
   "cell_type": "code",
   "execution_count": null,
   "id": "85ca5e55",
   "metadata": {},
   "outputs": [],
   "source": [
    "from transformers import pipeline\n",
    "import torch"
   ]
  },
  {
   "cell_type": "code",
   "execution_count": null,
   "id": "a5c1445c",
   "metadata": {},
   "outputs": [],
   "source": [
    "model_id = \"openai/gpt-oss-20b\""
   ]
  },
  {
   "cell_type": "code",
   "execution_count": null,
   "id": "e1d1b0ed",
   "metadata": {},
   "outputs": [],
   "source": [
    "pipe = pipeline(\n",
    "    \"text-generation\",\n",
    "    model=model_id,\n",
    "    torch_dtype=\"auto\",\n",
    "    device_map=\"auto\",    \n",
    ")\n",
    "\n",
    "messages = [\n",
    "    {\"role\": \"user\", \"content\": \"Explain quantum mechanics clearly and concisely.\"},\n",
    "]\n",
    "\n",
    "outputs = pipe(\n",
    "    messages,\n",
    "    max_new_tokens=256,\n",
    ")"
   ]
  },
  {
   "cell_type": "code",
   "execution_count": null,
   "id": "8538a37b",
   "metadata": {},
   "outputs": [],
   "source": [
    "print(outputs[0][\"generated_text\"][-1])"
   ]
  },
  {
   "cell_type": "code",
   "execution_count": 4,
   "id": "e7d3e4be",
   "metadata": {},
   "outputs": [
    {
     "name": "stdout",
     "output_type": "stream",
     "text": [
      "Here's a fun tidbit: **the Eiffel Tower has a secret “bicycle‑rental” office hidden in its very first floor!**  \n",
      "\n",
      "When Gustave Eiffel completed the tower in 1889, he wanted to make the site a lively attraction, not just a static monument. So he set up a little “Bicycle Rental” (in French, *Location de Vélos*) right on the tower’s ground level. Early visitors could rent a bike and pedal around the Champ de Mars, taking in the views of the tower from the ground up—something like a primitive “tourist package” that combined transport and sightseeing.\n",
      "\n",
      "The office was short‑lived (it closed after a few years), but the tiny door is still there, tucked into a corner of the first‑floor lobby. If you look closely during a visit, you can spot the faded sign above the door, a quiet reminder of the tower’s early‑20th‑century effort to turn a massive iron lattice into a full‑on tourist experience. 🚴‍♂️✨\n"
     ]
    }
   ],
   "source": [
    "import os\n",
    "from openai import OpenAI\n",
    "from dotenv import load_dotenv\n",
    "load_dotenv()\n",
    "\n",
    "client=OpenAI(\n",
    "    base_url=\"https://router.huggingface.co/v1\",\n",
    "    api_key=os.getenv(\"HF_TOKEN\")\n",
    ")\n",
    "\n",
    "response = client.chat.completions.create(\n",
    "    model= \"openai/gpt-oss-120b:cerebras\",\n",
    "    messages=[{\"role\": \"user\", \"content\":\"Tell me a fun fact about the Eiffel Tower.\"}]\n",
    ")\n",
    "\n",
    "print(response.choices[0].message.content)"
   ]
  },
  {
   "cell_type": "code",
   "execution_count": 5,
   "id": "b2ddfbcd",
   "metadata": {},
   "outputs": [
    {
     "name": "stdout",
     "output_type": "stream",
     "text": [
      "ChatCompletionMessage(content=None, refusal=None, role='assistant', annotations=None, audio=None, function_call=None, tool_calls=[ChatCompletionMessageToolCall(id='afde8712c', function=Function(arguments='{\\n  \"location\": \"Paris, FR\",\\n  \"unit\": \"celsius\"\\n}', name='get_current_weather'), type='function')], reasoning='User asks for weather in Paris in Celsius. Need to call get_current_weather with location \"Paris, FR\" perhaps. The function expects \"city and state\" like \"San Francisco, CA\". But we can give \"Paris, FR\". Provide unit \"celsius\". Use function.')\n"
     ]
    }
   ],
   "source": [
    "import os\n",
    "from openai import OpenAI\n",
    "\n",
    "tools = [\n",
    "    {\n",
    "        \"type\": \"function\",\n",
    "        \"function\": {\n",
    "            \"name\": \"get_current_weather\",\n",
    "            \"description\": \"Get the current weather in a given location\",\n",
    "            \"parameters\": {\n",
    "                \"type\": \"object\",\n",
    "                \"properties\": {\n",
    "                    \"location\": {\n",
    "                        \"type\": \"string\",\n",
    "                        \"description\": \"The city and state, e.g. San Francisco, CA\",\n",
    "                    },\n",
    "                    \"unit\": {\"type\": \"string\", \"enum\": [\"celsius\", \"fahrenheit\"]},\n",
    "                },\n",
    "                \"required\": [\"location\"],\n",
    "            },\n",
    "        },\n",
    "    }\n",
    "]\n",
    "\n",
    "response = client.chat.completions.create(\n",
    "    model=\"openai/gpt-oss-120b:cerebras\",\n",
    "    messages=[{\"role\": \"user\", \"content\": \"What is the weather in Paris in Celsius?\"}],\n",
    "    tools=tools,\n",
    "    tool_choice=\"auto\",\n",
    ")\n",
    "\n",
    "# The response will contain the tool_calls object if the model decides to use the tool\n",
    "print(response.choices[0].message)"
   ]
  },
  {
   "cell_type": "code",
   "execution_count": null,
   "id": "2ae82cdc",
   "metadata": {},
   "outputs": [],
   "source": []
  }
 ],
 "metadata": {
  "kernelspec": {
   "display_name": "server",
   "language": "python",
   "name": "python3"
  },
  "language_info": {
   "codemirror_mode": {
    "name": "ipython",
    "version": 3
   },
   "file_extension": ".py",
   "mimetype": "text/x-python",
   "name": "python",
   "nbconvert_exporter": "python",
   "pygments_lexer": "ipython3",
   "version": "3.13.1"
  }
 },
 "nbformat": 4,
 "nbformat_minor": 5
}
